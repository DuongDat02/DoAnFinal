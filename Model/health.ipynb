{
 "cells": [
  {
   "cell_type": "code",
   "execution_count": 1,
   "id": "f1a7f3eb-8873-45c6-8f06-642fa3dd1be6",
   "metadata": {},
   "outputs": [
    {
     "name": "stdout",
     "output_type": "stream",
     "text": [
      "   pulse  body temperature  SpO2  Status\n",
      "0     70              36.0    99       0\n",
      "1     70              36.0    98       0\n",
      "2     70              36.0    97       0\n",
      "3     70              36.0    96       0\n",
      "4     70              36.1   100       0\n",
      "<class 'pandas.core.frame.DataFrame'>\n",
      "RangeIndex: 5909 entries, 0 to 5908\n",
      "Data columns (total 4 columns):\n",
      " #   Column            Non-Null Count  Dtype  \n",
      "---  ------            --------------  -----  \n",
      " 0   pulse             5909 non-null   int64  \n",
      " 1   body temperature  5909 non-null   float64\n",
      " 2   SpO2              5909 non-null   int64  \n",
      " 3   Status            5909 non-null   int64  \n",
      "dtypes: float64(1), int64(3)\n",
      "memory usage: 184.8 KB\n",
      "None\n",
      "Confusion Matrix:\n",
      " [[215   0   0]\n",
      " [  0 473   0]\n",
      " [  0   0 494]]\n",
      "\n",
      "Classification Report:\n",
      "               precision    recall  f1-score   support\n",
      "\n",
      "           0       1.00      1.00      1.00       215\n",
      "           1       1.00      1.00      1.00       473\n",
      "           2       1.00      1.00      1.00       494\n",
      "\n",
      "    accuracy                           1.00      1182\n",
      "   macro avg       1.00      1.00      1.00      1182\n",
      "weighted avg       1.00      1.00      1.00      1182\n",
      "\n",
      "Mô hình đã được lưu vào file 'health_model.pkl'.\n",
      "Predicted Status: [0]\n"
     ]
    },
    {
     "name": "stderr",
     "output_type": "stream",
     "text": [
      "C:\\Users\\ADMIN\\AppData\\Local\\Programs\\Python\\Python311\\Lib\\site-packages\\sklearn\\base.py:493: UserWarning: X does not have valid feature names, but RandomForestClassifier was fitted with feature names\n",
      "  warnings.warn(\n"
     ]
    }
   ],
   "source": [
    "import pandas as pd\n",
    "import numpy as np\n",
    "from sklearn.model_selection import train_test_split\n",
    "from sklearn.ensemble import RandomForestClassifier\n",
    "from sklearn.metrics import classification_report, confusion_matrix\n",
    "import joblib  # Thư viện để lưu mô hình\n",
    "\n",
    "# 1. Đọc dữ liệu\n",
    "data = pd.read_csv('health_dataset.csv')\n",
    "\n",
    "# 2. Kiểm tra dữ liệu\n",
    "print(data.head())\n",
    "print(data.info())\n",
    "\n",
    "# 3. Phân chia input (X) và output (y)\n",
    "X = data[['body temperature', 'pulse', 'SpO2']]  # Cột đầu vào\n",
    "y = data['Status']  # Cột nhãn\n",
    "\n",
    "# 4. Chia dữ liệu thành tập huấn luyện và kiểm tra\n",
    "X_train, X_test, y_train, y_test = train_test_split(X, y, test_size=0.2, random_state=42)\n",
    "\n",
    "# 5. Huấn luyện mô hình Random Forest\n",
    "model = RandomForestClassifier(random_state=42)\n",
    "model.fit(X_train, y_train)\n",
    "\n",
    "# 6. Dự đoán và đánh giá\n",
    "y_pred = model.predict(X_test)\n",
    "print(\"Confusion Matrix:\\n\", confusion_matrix(y_test, y_pred))\n",
    "print(\"\\nClassification Report:\\n\", classification_report(y_test, y_pred))\n",
    "\n",
    "# 7. Lưu mô hình đã huấn luyện\n",
    "joblib.dump(model, 'health_model.pkl')\n",
    "print(\"Mô hình đã được lưu vào file 'health_model.pkl'.\")\n",
    "\n",
    "# 8. Dự đoán mới (ví dụ)\n",
    "sample_data = np.array([[36.8, 80, 98]])  # Một hàng dữ liệu mới (nhiệt độ, nhịp tim, SpO2)\n",
    "loaded_model = joblib.load('health_model.pkl')  # Tải lại mô hình từ file\n",
    "print(\"Predicted Status:\", loaded_model.predict(sample_data))\n",
    "\n",
    "\n"
   ]
  },
  {
   "cell_type": "code",
   "execution_count": null,
   "id": "7df047d1-fe36-437e-b7b0-a807ea51b444",
   "metadata": {},
   "outputs": [],
   "source": []
  }
 ],
 "metadata": {
  "kernelspec": {
   "display_name": "Python 3 (ipykernel)",
   "language": "python",
   "name": "python3"
  },
  "language_info": {
   "codemirror_mode": {
    "name": "ipython",
    "version": 3
   },
   "file_extension": ".py",
   "mimetype": "text/x-python",
   "name": "python",
   "nbconvert_exporter": "python",
   "pygments_lexer": "ipython3",
   "version": "3.11.2"
  }
 },
 "nbformat": 4,
 "nbformat_minor": 5
}
